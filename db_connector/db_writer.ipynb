{
 "cells": [
  {
   "cell_type": "markdown",
   "metadata": {},
   "source": [
    "# Database writer notebook\n",
    "## Idea behind creating this notebook\n",
    "- fast iterating in web browser\n",
    "- easy to run, easy to cooperate"
   ]
  },
  {
   "cell_type": "markdown",
   "metadata": {},
   "source": [
    "If backend is not running, run it (from current dir sth like):\n",
    "\n",
    "```cd ../../../backend/docker\n",
    "sudo docker-compose up\n",
    "cd ..\n",
    "mvn spring-boot:run```"
   ]
  },
  {
   "cell_type": "code",
   "execution_count": 1,
   "metadata": {
    "collapsed": true
   },
   "outputs": [],
   "source": [
    "import requests\n",
    "import json\n",
    "# import pdb\n",
    "# import unittest "
   ]
  },
  {
   "cell_type": "code",
   "execution_count": 2,
   "metadata": {},
   "outputs": [
    {
     "name": "stdout",
     "output_type": "stream",
     "text": [
      "data sending... (txt) \n",
      "status code: 200\n",
      "data sending... (json)\n",
      "status code: 200\n"
     ]
    }
   ],
   "source": [
    "## Basic demo do posting data to db\n",
    "\n",
    "# destination_url = 'http://localhost:8095/products'\n",
    "\n",
    "test_destination = 'http://httpbin.org/post'\n",
    "\n",
    "example_json = {\n",
    "    \"creationDate\": \"2018-06-02T13:09:13.534Z\",\n",
    "    \"description\": \"string\",\n",
    "    \"id\": \"string\",\n",
    "    \"imageURL\": \"string\",\n",
    "    \"links\": [\n",
    "      \"string\"\n",
    "    ],\n",
    "    \"name\": \"string\",\n",
    "    \"productCode\": \"string\"\n",
    "}\n",
    "\n",
    "example_data = '''{\n",
    "    \"creationDate\": \"2018-06-02T13:09:13.534Z\",\n",
    "    \"description\": \"string\",\n",
    "    \"id\": \"string\",\n",
    "    \"imageURL\": \"string\",\n",
    "    \"links\": [\n",
    "      \"string\"\n",
    "    ],\n",
    "    \"name\": \"string\",\n",
    "    \"productCode\": \"string\"\n",
    "}'''\n",
    "\n",
    "# response = requests.post(destination_url, json=example_data)\n",
    "# response = requests.post(destination_url, data = example_data)\n",
    "\n",
    "response = requests.post(test_destination, data = example_data)\n",
    "print(\"data sending... (txt) \")\n",
    "print(\"status code: \" + str(response.status_code))\n",
    "response = requests.post(test_destination, json=example_json)\n",
    "print(\"data sending... (json)\")\n",
    "print(\"status code: \" + str(response.status_code))\n"
   ]
  },
  {
   "cell_type": "code",
   "execution_count": null,
   "metadata": {
    "collapsed": true
   },
   "outputs": [],
   "source": [
    "spider_selector = \"vobis\"\n",
    "spider_format_output = \"json\"\n",
    "spider_selector_file = spider_selector + \".\" + spider_format_output"
   ]
  },
  {
   "cell_type": "code",
   "execution_count": null,
   "metadata": {},
   "outputs": [],
   "source": [
    "%%bash -s $spider_selector $spider_selector_file \n",
    "# echo \"$1  $2\"\n",
    "cd ../vobis\n",
    "pwd\n",
    "scrapy crawl $1 -o $2 "
   ]
  },
  {
   "cell_type": "code",
   "execution_count": null,
   "metadata": {},
   "outputs": [],
   "source": [
    "scrapped_data = json.load(open(\"../vobis/\" + spider_selector_file), encoding='utf-8')"
   ]
  },
  {
   "cell_type": "code",
   "execution_count": null,
   "metadata": {},
   "outputs": [],
   "source": [
    "scrapped_data"
   ]
  },
  {
   "cell_type": "code",
   "execution_count": null,
   "metadata": {
    "collapsed": true
   },
   "outputs": [],
   "source": []
  }
 ],
 "metadata": {
  "kernelspec": {
   "display_name": "Python 2",
   "language": "python",
   "name": "python2"
  },
  "language_info": {
   "codemirror_mode": {
    "name": "ipython",
    "version": 2
   },
   "file_extension": ".py",
   "mimetype": "text/x-python",
   "name": "python",
   "nbconvert_exporter": "python",
   "pygments_lexer": "ipython2",
   "version": "2.7.14"
  }
 },
 "nbformat": 4,
 "nbformat_minor": 2
}
