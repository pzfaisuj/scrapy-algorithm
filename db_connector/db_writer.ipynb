{
 "cells": [
  {
   "cell_type": "markdown",
   "metadata": {},
   "source": [
    "# Database writer notebook\n",
    "## Idea behind creating this notebook\n",
    "- fast iterating in web browser\n",
    "- easy to run, easy to cooperate"
   ]
  },
  {
   "cell_type": "markdown",
   "metadata": {},
   "source": [
    "If backend is not running, run it (from current dir sth like):\n",
    "\n",
    "```cd ../../../backend/docker\n",
    "sudo docker-compose up\n",
    "cd ..\n",
    "mvn spring-boot:run```"
   ]
  },
  {
   "cell_type": "code",
   "execution_count": 1,
   "metadata": {},
   "outputs": [],
   "source": [
    "import requests\n",
    "import json\n",
    "# import pdb\n",
    "# import unittest "
   ]
  },
  {
   "cell_type": "code",
   "execution_count": 2,
   "metadata": {},
   "outputs": [
    {
     "name": "stdout",
     "output_type": "stream",
     "text": [
      "data sending... (txt) \n",
      "status code: 200\n",
      "data sending... (json)\n",
      "status code: 200\n"
     ]
    }
   ],
   "source": [
    "## Basic demo do posting data to db\n",
    "\n",
    "# destination_url = 'http://localhost:8095/products'\n",
    "\n",
    "test_destination = 'http://httpbin.org/post'\n",
    "\n",
    "example_json = {\n",
    "    \"creationDate\": \"2018-06-02T13:09:13.534Z\",\n",
    "    \"description\": \"string\",\n",
    "    \"id\": \"string\",\n",
    "    \"imageURL\": \"string\",\n",
    "    \"links\": [\n",
    "      \"string\"\n",
    "    ],\n",
    "    \"name\": \"string\",\n",
    "    \"productCode\": \"string\"\n",
    "}\n",
    "\n",
    "example_data = '''{\n",
    "    \"creationDate\": \"2018-06-02T13:09:13.534Z\",\n",
    "    \"description\": \"string\",\n",
    "    \"id\": \"string\",\n",
    "    \"imageURL\": \"string\",\n",
    "    \"links\": [\n",
    "      \"string\"\n",
    "    ],\n",
    "    \"name\": \"string\",\n",
    "    \"productCode\": \"string\"\n",
    "}'''\n",
    "\n",
    "# response = requests.post(destination_url, json=example_data)\n",
    "# response = requests.post(destination_url, data = example_data)\n",
    "\n",
    "response = requests.post(test_destination, data = example_data)\n",
    "print(\"data sending... (txt) \")\n",
    "print(\"status code: \" + str(response.status_code))\n",
    "response = requests.post(test_destination, json=example_json)\n",
    "print(\"data sending... (json)\")\n",
    "print(\"status code: \" + str(response.status_code))\n"
   ]
  },
  {
   "cell_type": "code",
   "execution_count": 3,
   "metadata": {},
   "outputs": [],
   "source": [
    "spider_selector = \"vobis\"\n",
    "spider_format_output = \"json\"\n",
    "spider_selector_file = spider_selector + \".\" + spider_format_output"
   ]
  },
  {
   "cell_type": "code",
   "execution_count": 4,
   "metadata": {},
   "outputs": [
    {
     "name": "stdout",
     "output_type": "stream",
     "text": [
      "/home/nau/Downloads/scrapy-algorithm/vobis\n"
     ]
    },
    {
     "name": "stderr",
     "output_type": "stream",
     "text": [
      "bash: line 4: scrapy: command not found\n"
     ]
    }
   ],
   "source": [
    "%%bash -s $spider_selector $spider_selector_file \n",
    "# echo \"$1  $2\"\n",
    "cd ../vobis\n",
    "pwd\n",
    "scrapy crawl $1 -o $2 "
   ]
  },
  {
   "cell_type": "code",
   "execution_count": 5,
   "metadata": {},
   "outputs": [],
   "source": [
    "scrapped_data = json.load(open(\"../vobis/\" + spider_selector_file), encoding='utf-8')"
   ]
  },
  {
   "cell_type": "code",
   "execution_count": 6,
   "metadata": {},
   "outputs": [
    {
     "data": {
      "text/plain": [
       "[{u'name': [u'Samsung Galaxy S9+ SM-G965FZPDXEO Lilac Purple'],\n",
       "  u'price': [u'3999.00'],\n",
       "  u'productId': [u'772582'],\n",
       "  u'productUrl': u'https://vobis.pl/mobile/smartfony/smartfon-samsung-galaxy-s9-sm-g965fzpdxeo-lilac-purple'},\n",
       " {u'name': [u'Samsung Galaxy S9+ SM-G965FZKDXEO Black'],\n",
       "  u'price': [u'3999.00'],\n",
       "  u'productId': [u'772579'],\n",
       "  u'productUrl': u'https://vobis.pl/mobile/smartfony/smartfon-samsung-galaxy-s9-sm-g965fzkdxeo-black'},\n",
       " {u'name': [u'Samsung Galaxy S9+ SM-G965FZBDXEO Coral Blue'],\n",
       "  u'price': [u'3999.00'],\n",
       "  u'productId': [u'772577'],\n",
       "  u'productUrl': u'https://vobis.pl/mobile/smartfony/smartfon-samsung-galaxy-s9-sm-g965fzbdxeo-blue-coral'},\n",
       " {u'name': [u'Samsung Galaxy S9 SM-G960FZPDXEO Lilac Purple'],\n",
       "  u'price': [u'3599.00'],\n",
       "  u'productId': [u'772575'],\n",
       "  u'productUrl': u'https://vobis.pl/mobile/smartfony/smartfon-samsung-galaxy-s9-sm-g960fzpdxeo-lilac-purple'},\n",
       " {u'name': [u'Samsung Galaxy S9 SM-G960FZBDXEO Coral Blue'],\n",
       "  u'price': [u'3599.00'],\n",
       "  u'productId': [u'772573'],\n",
       "  u'productUrl': u'https://vobis.pl/mobile/smartfony/smartfon-samsung-galaxy-s9-sm-g960fzbdxeo-coral-blue'},\n",
       " {u'name': [u'Samsung Galaxy S9 SM-G960FZKAXEO Black'],\n",
       "  u'price': [u'3599.00'],\n",
       "  u'productId': [u'772572'],\n",
       "  u'productUrl': u'https://vobis.pl/mobile/smartfony/smartfon-samsung-galaxy-s9-sm-g960fzkaxeo-black'},\n",
       " {u'name': [u'Samsung Galaxy S8 SM-G950FZKAXEO Black'],\n",
       "  u'price': [u'2599.00'],\n",
       "  u'productId': [u'301099'],\n",
       "  u'productUrl': u'https://vobis.pl/mobile/smartfony/samsung-galaxy-s8-sm-g950fzkaxeo-black-1'},\n",
       " {u'name': [u'Samsung Galaxy S8 SM-G950FZVAXEO Orchid Grey'],\n",
       "  u'price': [u'2599.00'],\n",
       "  u'productId': [u'301100'],\n",
       "  u'productUrl': u'https://vobis.pl/mobile/smartfony/samsung-galaxy-s8-sm-g950fzvaxeo-orchid-grey-1'},\n",
       " {u'name': [u'Samsung Galaxy S8+ SM-G955FZKAXEO Black'],\n",
       "  u'price': [u'2899.00'],\n",
       "  u'productId': [u'413085'],\n",
       "  u'productUrl': u'https://vobis.pl/mobile/smartfony/samsung-galaxy-s8-sm-g955fzkaxeo-black-1'},\n",
       " {u'name': [u'Samsung GALAXY S8 SILVER SM-G950FZSAXEO'],\n",
       "  u'price': [u'2599.00'],\n",
       "  u'productId': [u'413089'],\n",
       "  u'productUrl': u'https://vobis.pl/mobile/smartfony/samsung-galaxy-s8-sm-g950fzsaxeo-silver-1'},\n",
       " {u'name': [u'Alcatel  10.50 BLACK'],\n",
       "  u'price': [u'71.00'],\n",
       "  u'productId': [u'202182'],\n",
       "  u'productUrl': u'https://vobis.pl/mobile/smartfony/alcatel-10-50-black'},\n",
       " {u'name': [u'Alcatel  10.54D GREY'],\n",
       "  u'price': [u'81.00'],\n",
       "  u'productId': [u'202174'],\n",
       "  u'productUrl': u'https://vobis.pl/mobile/smartfony/alcatel-10-54d-grey'},\n",
       " {u'name': [u'Alcatel  10.54D WHITE'],\n",
       "  u'price': [u'81.00'],\n",
       "  u'productId': [u'202177'],\n",
       "  u'productUrl': u'https://vobis.pl/mobile/smartfony/alcatel-10-54d-white'},\n",
       " {u'name': [u'Alcatel  20.08 BIA\\u0141Y'],\n",
       "  u'price': [u'173.00'],\n",
       "  u'productId': [u'401789'],\n",
       "  u'productUrl': u'https://vobis.pl/mobile/smartfony/alcatel-20-08-bialy-2'},\n",
       " {u'name': [u'Alcatel  20.08 BLACK'],\n",
       "  u'price': [u'173.00'],\n",
       "  u'productId': [u'159381'],\n",
       "  u'productUrl': u'https://vobis.pl/mobile/smartfony/alcatel-20-08-black'},\n",
       " {u'name': [u'Alcatel  20.08 SILVER'],\n",
       "  u'price': [u'173.00'],\n",
       "  u'productId': [u'201997'],\n",
       "  u'productUrl': u'https://vobis.pl/mobile/smartfony/alcatel-20-08-silver'},\n",
       " {u'name': [u'Alcatel  20.38 Grey'],\n",
       "  u'price': [u'132.00'],\n",
       "  u'productId': [u'210812'],\n",
       "  u'productUrl': u'https://vobis.pl/mobile/smartfony/alcatel-20-38-grey'},\n",
       " {u'name': [u'Alcatel  20.51 SILVER'],\n",
       "  u'price': [u'184.00'],\n",
       "  u'productId': [u'202185'],\n",
       "  u'productUrl': u'https://vobis.pl/mobile/smartfony/alcatel-20-51-silver'},\n",
       " {u'name': [u'Alcatel  20.51 WHITE'],\n",
       "  u'price': [u'184.00'],\n",
       "  u'productId': [u'401786'],\n",
       "  u'productUrl': u'https://vobis.pl/mobile/smartfony/alcatel-20-51-white-2'},\n",
       " {u'name': [u'Alcatel  PIXI 4 (4) CZARNY DUAL SIM'],\n",
       "  u'price': [u'211.00'],\n",
       "  u'productId': [u'130463'],\n",
       "  u'productUrl': u'https://vobis.pl/mobile/smartfony/alcatel-pixi-4-4-czarny-dual-sim'}]"
      ]
     },
     "execution_count": 6,
     "metadata": {},
     "output_type": "execute_result"
    }
   ],
   "source": [
    "scrapped_data"
   ]
  },
  {
   "cell_type": "code",
   "execution_count": null,
   "metadata": {},
   "outputs": [],
   "source": []
  }
 ],
 "metadata": {
  "kernelspec": {
   "display_name": "Python 2",
   "language": "python",
   "name": "python2"
  },
  "language_info": {
   "codemirror_mode": {
    "name": "ipython",
    "version": 2
   },
   "file_extension": ".py",
   "mimetype": "text/x-python",
   "name": "python",
   "nbconvert_exporter": "python",
   "pygments_lexer": "ipython2",
   "version": "2.7.13"
  }
 },
 "nbformat": 4,
 "nbformat_minor": 2
}
